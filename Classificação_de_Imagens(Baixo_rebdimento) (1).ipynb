{
  "nbformat": 4,
  "nbformat_minor": 0,
  "metadata": {
    "colab": {
      "name": "Classificação de Imagens(Baixo_rebdimento).ipynb",
      "private_outputs": true,
      "provenance": []
    },
    "kernelspec": {
      "name": "python3",
      "display_name": "Python 3"
    },
    "language_info": {
      "name": "python"
    },
    "accelerator": "GPU"
  },
  "cells": [
    {
      "cell_type": "markdown",
      "source": [
        "# Importação das blibliotecas\n"
      ],
      "metadata": {
        "id": "QOka5Nu4Hmt_"
      }
    },
    {
      "cell_type": "code",
      "source": [
        "import tensorflow as tf\n",
        "import matplotlib.pyplot as plt\n",
        "import numpy as np\n",
        "from tensorflow.keras.datasets import cifar10"
      ],
      "metadata": {
        "id": "cWkH50TvHun9"
      },
      "execution_count": null,
      "outputs": []
    },
    {
      "cell_type": "markdown",
      "source": [
        "## Carregando a base de dados para as variaveis"
      ],
      "metadata": {
        "id": "BR8l6lP2Igxr"
      }
    },
    {
      "cell_type": "code",
      "source": [
        "(X_train, y_train),(X_test,Y_test)=cifar10.load_data()"
      ],
      "metadata": {
        "id": "2Y3kFY1mIlhn"
      },
      "execution_count": null,
      "outputs": []
    },
    {
      "cell_type": "code",
      "source": [
        "X_train.shape #50kd e imagens, tamanho 32x32 e formato RGB= 3 canais"
      ],
      "metadata": {
        "id": "QSwGSyzTI1vl"
      },
      "execution_count": null,
      "outputs": []
    },
    {
      "cell_type": "code",
      "source": [
        "plt.imshow(X_train[49000])"
      ],
      "metadata": {
        "id": "3UKOZtnmJi9a"
      },
      "execution_count": null,
      "outputs": []
    },
    {
      "cell_type": "code",
      "source": [
        "y_train.shape"
      ],
      "metadata": {
        "id": "eGpYgA67J7Ea"
      },
      "execution_count": null,
      "outputs": []
    },
    {
      "cell_type": "markdown",
      "source": [
        "## Nomes das imagens de saida"
      ],
      "metadata": {
        "id": "PkWXWPrwMFaJ"
      }
    },
    {
      "cell_type": "code",
      "source": [
        "class_names=[\"airplane\",\"automobile\",\"bird\",\"cat\",\"deer\",\"dog\",\"frog\",\"horse\",\"ship\",\"truck\"]"
      ],
      "metadata": {
        "id": "rOAAShflLAOZ"
      },
      "execution_count": null,
      "outputs": []
    },
    {
      "cell_type": "markdown",
      "source": [
        "## Padronização de dadospara ficar entre 0 e 1\n",
        "\n"
      ],
      "metadata": {
        "id": "hE6jELpdMnyP"
      }
    },
    {
      "cell_type": "code",
      "source": [
        "X_train=X_train/255.0\n",
        "X_test = X_test/255.0"
      ],
      "metadata": {
        "id": "kbeAXz8LMteV"
      },
      "execution_count": null,
      "outputs": []
    },
    {
      "cell_type": "code",
      "source": [
        "X_train"
      ],
      "metadata": {
        "id": "8Jni_W6jNNzM"
      },
      "execution_count": null,
      "outputs": []
    },
    {
      "cell_type": "markdown",
      "source": [
        "# Iniciando a rede neural covolucional"
      ],
      "metadata": {
        "id": "ju-VTBK4NZvB"
      }
    },
    {
      "cell_type": "markdown",
      "source": [
        "## Criando o modelo sequencial"
      ],
      "metadata": {
        "id": "VsWw9TLZNekI"
      }
    },
    {
      "cell_type": "code",
      "source": [
        "model = tf.keras.Sequential() # Cria uma rede neural de forma sequencial, camda por camada"
      ],
      "metadata": {
        "id": "C4Xf8hW3Njj6"
      },
      "execution_count": null,
      "outputs": []
    },
    {
      "cell_type": "markdown",
      "source": [
        "## Camada de covoluçao e Pooling"
      ],
      "metadata": {
        "id": "M5NnOiIiN1ka"
      }
    },
    {
      "cell_type": "code",
      "source": [
        "model.add(tf.keras.layers.Conv2D(filters=32,kernel_size= 5, activation='relu', input_shape=[32,32,3]))#Define o numero de filtros, o tamanho do kernel = 5x5, a funçãod e ativação, e o tamanhod a imagem de entrada"
      ],
      "metadata": {
        "id": "cmjrXJ7LOTMr"
      },
      "execution_count": null,
      "outputs": []
    },
    {
      "cell_type": "code",
      "source": [
        "model.add(tf.keras.layers.MaxPool2D(pool_size=(2,2),strides=2,padding='valid'))"
      ],
      "metadata": {
        "id": "37EUtcc1QYXM"
      },
      "execution_count": null,
      "outputs": []
    },
    {
      "cell_type": "code",
      "source": [
        "model.add(tf.keras.layers.Conv2D(filters=64,kernel_size= 5, activation='relu'))"
      ],
      "metadata": {
        "id": "8LyvgKEmRRTA"
      },
      "execution_count": null,
      "outputs": []
    },
    {
      "cell_type": "code",
      "source": [
        "model.add(tf.keras.layers.MaxPool2D(pool_size=(2,2),strides=2,padding='valid'))"
      ],
      "metadata": {
        "id": "atUlEgz0Rlf1"
      },
      "execution_count": null,
      "outputs": []
    },
    {
      "cell_type": "markdown",
      "source": [
        "## Camada de flatting"
      ],
      "metadata": {
        "id": "qs6xBEFTRsIa"
      }
    },
    {
      "cell_type": "code",
      "source": [
        "model.add(tf.keras.layers.Flatten())"
      ],
      "metadata": {
        "id": "FAdgt3oQRx-u"
      },
      "execution_count": null,
      "outputs": []
    },
    {
      "cell_type": "markdown",
      "source": [
        "## Criando as camdas ocultas(RedeNeurasL)"
      ],
      "metadata": {
        "id": "MlCJofBLSKYf"
      }
    },
    {
      "cell_type": "code",
      "source": [
        "model.add(tf.keras.layers.Dense(units=1024,activation='relu'))"
      ],
      "metadata": {
        "id": "1MTsVm1ySPDx"
      },
      "execution_count": null,
      "outputs": []
    },
    {
      "cell_type": "code",
      "source": [
        "#Camada de saida\n",
        "model.add(tf.keras.layers.Dense(units=10,activation='softmax'))#Teram 10 saidas, com base na base de ados"
      ],
      "metadata": {
        "id": "0QkRqOTTS8dN"
      },
      "execution_count": null,
      "outputs": []
    },
    {
      "cell_type": "markdown",
      "source": [
        "### Sumario do modelo"
      ],
      "metadata": {
        "id": "KCuxaL5gTjLg"
      }
    },
    {
      "cell_type": "code",
      "source": [
        "model.summary()"
      ],
      "metadata": {
        "id": "Ev8ZYnUATm8E"
      },
      "execution_count": null,
      "outputs": []
    },
    {
      "cell_type": "markdown",
      "source": [
        "## Parametros de treinamento"
      ],
      "metadata": {
        "id": "Zp4-JurUU3iL"
      }
    },
    {
      "cell_type": "code",
      "source": [
        "model.compile(optimizer='adam',loss=\"sparse_categorical_crossentropy\",metrics=['accuracy'])#otimizador é o melhora a rede neural para tentar obter menos erros, o loss é a função do erro para calcular a diferença entre o valor esperado e o obtido,accuracy é a metrica de erros, que no caso é a precisão"
      ],
      "metadata": {
        "id": "tb7KXGC6Ttsp"
      },
      "execution_count": null,
      "outputs": []
    },
    {
      "cell_type": "markdown",
      "source": [
        "## Treinando o modelo"
      ],
      "metadata": {
        "id": "pw8MhwqKWD2V"
      }
    },
    {
      "cell_type": "code",
      "source": [
        "model.fit(X_train,y_train, epochs=10)"
      ],
      "metadata": {
        "id": "hBSpR2M8WHBg"
      },
      "execution_count": null,
      "outputs": []
    },
    {
      "cell_type": "code",
      "source": [
        "test_loss, test_accuracy = model.evaluate(X_test, Y_test)"
      ],
      "metadata": {
        "id": "Gk61C0LoWvkj"
      },
      "execution_count": null,
      "outputs": []
    },
    {
      "cell_type": "markdown",
      "source": [
        "## Teste do Modelo"
      ],
      "metadata": {
        "id": "8SOgRJJ7dm3I"
      }
    },
    {
      "cell_type": "code",
      "source": [
        "imagem1 = X_test[780]"
      ],
      "metadata": {
        "id": "wjFD65I4YoE-"
      },
      "execution_count": null,
      "outputs": []
    },
    {
      "cell_type": "code",
      "source": [
        "plt.imshow(imagem1)"
      ],
      "metadata": {
        "id": "3ZF_pkf3YwSW"
      },
      "execution_count": null,
      "outputs": []
    },
    {
      "cell_type": "code",
      "source": [
        "imagem1= imagem1.reshape(1,32,32,3)#Padronizando a imagem"
      ],
      "metadata": {
        "id": "Nn_ZAxS9Y243"
      },
      "execution_count": null,
      "outputs": []
    },
    {
      "cell_type": "code",
      "source": [
        "possiveis=predict_x=model.predict(imagem1) \n",
        "possiveis"
      ],
      "metadata": {
        "id": "pDOPUIsBZUSr"
      },
      "execution_count": null,
      "outputs": []
    },
    {
      "cell_type": "code",
      "source": [
        "classes_x=np.argmax(predict_x,axis=1)\n",
        "valor=classes_x\n",
        "valor=classes_x[0]"
      ],
      "metadata": {
        "id": "Jkxy8yIKaCk-"
      },
      "execution_count": null,
      "outputs": []
    },
    {
      "cell_type": "code",
      "source": [
        "print(\"A figura é de um:\",class_names[valor])"
      ],
      "metadata": {
        "id": "jbVuR_xuaT6Q"
      },
      "execution_count": null,
      "outputs": []
    }
  ]
}